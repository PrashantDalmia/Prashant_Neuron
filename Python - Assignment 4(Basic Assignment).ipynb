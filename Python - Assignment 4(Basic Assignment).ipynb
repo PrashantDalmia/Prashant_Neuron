{
 "cells": [
  {
   "cell_type": "raw",
   "id": "c049e881",
   "metadata": {},
   "source": [
    "1. What exactly is []?\n",
    "\n",
    "Answer:  List"
   ]
  },
  {
   "cell_type": "raw",
   "id": "a88ac64b",
   "metadata": {},
   "source": [
    "2. In a list of values stored in a variable called spam, how would you assign the value 'hello' as the third value? (Assume [2, 4, 6, 8, 10] are in spam.)\n",
    "\n",
    "Answer : spam[2]='hello'"
   ]
  },
  {
   "cell_type": "raw",
   "id": "b29b4bd2",
   "metadata": {},
   "source": [
    "Let's pretend the spam includes the list ['a', 'b', 'c', 'd'] for the next three queries.\n",
    "\n",
    "3. What is the value of spam[int(int('3' * 2) / 11)]?\n",
    "\n",
    "Answer :'d'\n",
    "\n",
    "4. What is the value of spam[-1]?\n",
    "\n",
    "Answer:'d'\n",
    "\n",
    "5. What is the value of spam[:2]?\n",
    "\n",
    "Answer:['a','b']\n"
   ]
  },
  {
   "cell_type": "raw",
   "id": "6d08e706",
   "metadata": {},
   "source": [
    "Let's pretend bacon has the list [3.14, 'cat,' 11, 'cat,' True] for the next three questions.\n",
    "\n",
    "6. What is the value of bacon.index('cat')?\n",
    "\n",
    "Answer: 1\n",
    "\n",
    "7. How does bacon.append(99) change the look of the list value in bacon?\n",
    "\n",
    "Answer: [3.14, 'cat', 11, 'cat', True, 99]\n",
    "\n",
    "8. How does bacon.remove('cat') change the look of the list in bacon?\n",
    "\n",
    "Answer:[3.14, 11, 'cat', True, 99]\n"
   ]
  },
  {
   "cell_type": "raw",
   "id": "650a796d",
   "metadata": {},
   "source": [
    "9. What are the list concatenation and list replication operators?\n",
    "\n",
    "Answer: List Concatenation is addition of two lists.(L1+L2)\n",
    "        List Replication is like making copies of the same elements.(L1*L2)\n",
    "\n",
    "\n",
    "10. What is difference between the list methods append() and insert()?\n",
    "\n",
    "Answer: append() - It adds the values to the end of the list - l.append(\"Value you would ike to add\")\n",
    "        insert() - It adds the value to the required index - l.insert(\"Value you would ike to add\",index_number)\n",
    "        \n",
    "11. What are the two methods for removing items from a list?\n",
    "\n",
    "Answer : pop() and remove()\n",
    "\n",
    "12. Describe how list values and string values are identical.\n",
    "\n",
    "Answer: We can iterate over results.\n",
    "\n",
    "13. What's the difference between tuples and lists?\n",
    "\n",
    "Answer: tuples - (),immutable\n",
    "        list   - [], mutable\n",
    "\n",
    "14. How do you type a tuple value that only contains the integer 42?\n",
    "\n",
    "Answer: \n",
    "l=[]\n",
    "l.append(42)\n",
    "tuple(l)\n",
    "\n",
    "\n",
    "15. How do you get a list value's tuple form? How do you get a tuple value's list form?\n",
    "\n",
    "Answer: tuple(List_value)\n",
    "        list(tuple_value)\n",
    "\n",
    "16. Variables that \"contain\" list values are not necessarily lists themselves. Instead, what do they contain?\n",
    "\n",
    "Answer: They might be any data type like (int,str,dict,set,tuple)\n",
    "\n",
    "17. How do you distinguish between copy.copy() and copy.deepcopy()?\n",
    "\n",
    "Answer:\n",
    "\n",
    "copy.copy() - It means that any changes made to a copy of object do reflect in the original object.\n",
    "copy.deepcopy() - It means that any changes made to a copy of object donot reflect in the original object.\n"
   ]
  }
 ],
 "metadata": {
  "kernelspec": {
   "display_name": "Python 3 (ipykernel)",
   "language": "python",
   "name": "python3"
  },
  "language_info": {
   "codemirror_mode": {
    "name": "ipython",
    "version": 3
   },
   "file_extension": ".py",
   "mimetype": "text/x-python",
   "name": "python",
   "nbconvert_exporter": "python",
   "pygments_lexer": "ipython3",
   "version": "3.9.7"
  }
 },
 "nbformat": 4,
 "nbformat_minor": 5
}
