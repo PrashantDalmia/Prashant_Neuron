{
 "cells": [
  {
   "cell_type": "raw",
   "id": "6af0272f",
   "metadata": {},
   "source": [
    "1.Write a Python Program to Check if a Number is Positive, Negative or Zero?"
   ]
  },
  {
   "cell_type": "code",
   "execution_count": 6,
   "id": "c418c781",
   "metadata": {},
   "outputs": [
    {
     "name": "stdout",
     "output_type": "stream",
     "text": [
      "Enter a Number: -9\n",
      " The Number is Negative\n"
     ]
    }
   ],
   "source": [
    "Number = int(input(\"Enter a Number: \"))\n",
    "if Number == 0:\n",
    "    print(\" The Number is Zero\")\n",
    "elif Number > 0:\n",
    "    print(\" The Number is Positive\")\n",
    "else:\n",
    "    print(\" The Number is Negative\")"
   ]
  },
  {
   "cell_type": "raw",
   "id": "a8d472c6",
   "metadata": {},
   "source": [
    "2. Write a Python Program to Check if a Number is Odd or Even?"
   ]
  },
  {
   "cell_type": "code",
   "execution_count": 12,
   "id": "4aeccad5",
   "metadata": {},
   "outputs": [
    {
     "name": "stdout",
     "output_type": "stream",
     "text": [
      "Enter a Number: 8\n",
      "The Number is Even\n"
     ]
    }
   ],
   "source": [
    "Number = int(input(\"Enter a Number: \"))\n",
    "if Number%2==0:\n",
    "    print(\"The Number is Even\")\n",
    "else:\n",
    "    print(\"The Number is Odd\")"
   ]
  },
  {
   "cell_type": "raw",
   "id": "c126a2bb",
   "metadata": {},
   "source": [
    "3.Write a Python Program to Check Leap Year?"
   ]
  },
  {
   "cell_type": "code",
   "execution_count": 26,
   "id": "0297d7ec",
   "metadata": {},
   "outputs": [
    {
     "name": "stdout",
     "output_type": "stream",
     "text": [
      "Enter a Year: 4000\n",
      "It is a Leap Year\n"
     ]
    }
   ],
   "source": [
    "Year = int(input(\"Enter a Year: \"))\n",
    "if Year%4 == 0:\n",
    "    if Year%100 == 0:\n",
    "        if Year%400 ==0:\n",
    "            print(\"It is a Leap Year\")\n",
    "        else:\n",
    "            print(\"It is Not a Leap Year\")\n",
    "    else:\n",
    "        print(\"It is Leap Year\")\n",
    "else:\n",
    "    print(\"It is not a Leap Year\")"
   ]
  },
  {
   "cell_type": "raw",
   "id": "f38ad356",
   "metadata": {},
   "source": [
    "4.Write a Python Program to Check Prime Number?"
   ]
  },
  {
   "cell_type": "code",
   "execution_count": 32,
   "id": "e42228a8",
   "metadata": {},
   "outputs": [
    {
     "name": "stdout",
     "output_type": "stream",
     "text": [
      "Enter a Number: 9\n",
      "3\n",
      "It is not a Prime Number\n"
     ]
    }
   ],
   "source": [
    "Number = int(input(\"Enter a Number: \"))\n",
    "count=0\n",
    "for i in range(1,Number+1):\n",
    "    if Number%i==0:\n",
    "        count=count+1\n",
    "print(count)\n",
    "if count==2:\n",
    "    print(\"It is a Prime Number\")\n",
    "else:\n",
    "    print(\"It is not a Prime Number\")"
   ]
  },
  {
   "cell_type": "raw",
   "id": "2d57a9b9",
   "metadata": {},
   "source": [
    "5. Write a Python Program to Print all Prime Numbers in an Interval of 1-10000?"
   ]
  },
  {
   "cell_type": "code",
   "execution_count": 45,
   "id": "e7b3d15a",
   "metadata": {},
   "outputs": [
    {
     "name": "stdout",
     "output_type": "stream",
     "text": [
      "There are 168 number of Prime Number\n"
     ]
    }
   ],
   "source": [
    "Final_Count=0\n",
    "for i in range(1,1000+1):\n",
    "    count=0\n",
    "    Number = i\n",
    "    for j in range(1,Number+1):\n",
    "        if Number%j==0:\n",
    "            count=count+1\n",
    "    if count == 2:\n",
    "        Final_Count=Final_Count+1\n",
    "    else:\n",
    "        continue\n",
    "print(\"There are {} number of Prime Number\".format(Final_Count))\n"
   ]
  },
  {
   "cell_type": "code",
   "execution_count": null,
   "id": "e53e2d9a",
   "metadata": {},
   "outputs": [],
   "source": []
  }
 ],
 "metadata": {
  "kernelspec": {
   "display_name": "Python 3 (ipykernel)",
   "language": "python",
   "name": "python3"
  },
  "language_info": {
   "codemirror_mode": {
    "name": "ipython",
    "version": 3
   },
   "file_extension": ".py",
   "mimetype": "text/x-python",
   "name": "python",
   "nbconvert_exporter": "python",
   "pygments_lexer": "ipython3",
   "version": "3.9.7"
  }
 },
 "nbformat": 4,
 "nbformat_minor": 5
}
