{
 "cells": [
  {
   "cell_type": "raw",
   "id": "b1cc58ee",
   "metadata": {},
   "source": [
    "1.Write a Python Program to Find LCM?"
   ]
  },
  {
   "cell_type": "code",
   "execution_count": 11,
   "id": "6b7620ae",
   "metadata": {},
   "outputs": [
    {
     "name": "stdout",
     "output_type": "stream",
     "text": [
      "Enter the Number for which you want to find LCM: 6\n",
      "Enter the Number for which you want to find LCM: 8\n",
      "24\n"
     ]
    }
   ],
   "source": [
    "Number2 = int(input(\"Enter the Number for which you want to find LCM: \"))\n",
    "Number1 = int(input(\"Enter the Number for which you want to find LCM: \"))\n",
    "\n",
    "l=Number1*Number2\n",
    "k=max(Number1,Number2)\n",
    "for i in range(k,l+1):\n",
    "    if i%Number1==0 and i%Number2==0:\n",
    "        break\n",
    "    else:\n",
    "        continue\n",
    "print(i)"
   ]
  },
  {
   "cell_type": "raw",
   "id": "00e17083",
   "metadata": {},
   "source": [
    "2.Write a Python Program to Find HCF?"
   ]
  },
  {
   "cell_type": "code",
   "execution_count": 18,
   "id": "1e49cd8e",
   "metadata": {},
   "outputs": [
    {
     "name": "stdout",
     "output_type": "stream",
     "text": [
      "Enter the Number for which you want to find LCM: 12\n",
      "Enter the Number for which you want to find LCM: 8\n",
      "4\n"
     ]
    }
   ],
   "source": [
    "Number2 = int(input(\"Enter the Number for which you want to find HCF: \"))\n",
    "Number1 = int(input(\"Enter the Number for which you want to find HCF: \"))\n",
    "\n",
    "k1=min(Number1,Number2)\n",
    "for i in range(k1,1,-1):\n",
    "    if Number1%i==0 and Number2%i==0:\n",
    "        break\n",
    "    else:\n",
    "        continue\n",
    "print(i)"
   ]
  },
  {
   "cell_type": "raw",
   "id": "2aea1f1f",
   "metadata": {},
   "source": [
    "3.Write a Python Program to Convert Decimal to Binary, Octal and Hexadecimal?"
   ]
  },
  {
   "cell_type": "code",
   "execution_count": 32,
   "id": "b4cde3ae",
   "metadata": {},
   "outputs": [
    {
     "name": "stdout",
     "output_type": "stream",
     "text": [
      "Please enter the Decimal Number: 24\n",
      "Binary:-  0b11000\n",
      "Octal:-  0o30\n",
      "Hexadecimal:-  0x18\n"
     ]
    }
   ],
   "source": [
    "Number = int(input(\"Please enter the Decimal Number: \"))\n",
    "\n",
    "print(\"Binary:- \",bin(Number))\n",
    "print(\"Octal:- \",oct(Number))\n",
    "print(\"Hexadecimal:- \",hex(Number))"
   ]
  },
  {
   "cell_type": "raw",
   "id": "145ea6ea",
   "metadata": {},
   "source": [
    "4.Write a Python Program to Find ASCII value of a character?"
   ]
  },
  {
   "cell_type": "code",
   "execution_count": 58,
   "id": "1b2b952a",
   "metadata": {},
   "outputs": [
    {
     "name": "stdout",
     "output_type": "stream",
     "text": [
      "Please enter the Character: e\n"
     ]
    },
    {
     "data": {
      "text/plain": [
       "101"
      ]
     },
     "execution_count": 58,
     "metadata": {},
     "output_type": "execute_result"
    }
   ],
   "source": [
    "Char=input(\"Please enter the Character: \")\n",
    "ord(Char)"
   ]
  },
  {
   "cell_type": "raw",
   "id": "cb53eb14",
   "metadata": {},
   "source": [
    "5.Write a Python Program to Make a Simple Calculator with 4 basic mathematical operations?"
   ]
  },
  {
   "cell_type": "code",
   "execution_count": 22,
   "id": "088bd35b",
   "metadata": {},
   "outputs": [
    {
     "name": "stdout",
     "output_type": "stream",
     "text": [
      "Enter the Number 1 24\n",
      "Enter the Number 2 12\n",
      "36\n",
      "12\n",
      "288\n",
      "2.0\n"
     ]
    }
   ],
   "source": [
    "def sum1(a,b):\n",
    "    return a+b\n",
    "def sub (a,b):\n",
    "    return a-b\n",
    "def mul (a,b):\n",
    "    return a*b\n",
    "def div(a,b):\n",
    "    return a/b\n",
    "\n",
    "Number1 = int(input(\"Enter the Number 1 \"))\n",
    "Number2 = int(input(\"Enter the Number 2 \"))\n",
    "\n",
    "print(sum1(Number1,Number2))\n",
    "print(sub(Number1,Number2))\n",
    "print(mul(Number1,Number2))\n",
    "print(div(Number1,Number2))\n"
   ]
  },
  {
   "cell_type": "code",
   "execution_count": null,
   "id": "610de7cf",
   "metadata": {},
   "outputs": [],
   "source": []
  }
 ],
 "metadata": {
  "kernelspec": {
   "display_name": "Python 3 (ipykernel)",
   "language": "python",
   "name": "python3"
  },
  "language_info": {
   "codemirror_mode": {
    "name": "ipython",
    "version": 3
   },
   "file_extension": ".py",
   "mimetype": "text/x-python",
   "name": "python",
   "nbconvert_exporter": "python",
   "pygments_lexer": "ipython3",
   "version": "3.9.7"
  }
 },
 "nbformat": 4,
 "nbformat_minor": 5
}
