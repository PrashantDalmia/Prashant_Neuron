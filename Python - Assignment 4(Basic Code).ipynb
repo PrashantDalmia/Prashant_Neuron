{
 "cells": [
  {
   "cell_type": "raw",
   "id": "6b6165e4",
   "metadata": {},
   "source": [
    "1.Write a Python Program to Find the Factorial of a Number?"
   ]
  },
  {
   "cell_type": "code",
   "execution_count": 2,
   "id": "58071e0e",
   "metadata": {},
   "outputs": [
    {
     "name": "stdout",
     "output_type": "stream",
     "text": [
      "Enter the Number: 5\n",
      "120\n"
     ]
    }
   ],
   "source": [
    "Number = int(input(\"Enter the Number: \"))\n",
    "k=1\n",
    "for i in range(1,Number+1):\n",
    "    k=k*i\n",
    "print(k)\n",
    "    "
   ]
  },
  {
   "cell_type": "raw",
   "id": "690c1d01",
   "metadata": {},
   "source": [
    "2.Write a Python Program to Display the multiplication Table?"
   ]
  },
  {
   "cell_type": "code",
   "execution_count": 4,
   "id": "48b3ad5c",
   "metadata": {},
   "outputs": [
    {
     "name": "stdout",
     "output_type": "stream",
     "text": [
      "Enter the Number for which we want a Table: 5\n",
      "5*1 = 5\n",
      "5*2 = 10\n",
      "5*3 = 15\n",
      "5*4 = 20\n",
      "5*5 = 25\n",
      "5*6 = 30\n",
      "5*7 = 35\n",
      "5*8 = 40\n",
      "5*9 = 45\n",
      "5*10 = 50\n"
     ]
    }
   ],
   "source": [
    "Number = int(input(\"Enter the Number for which we want a Table: \"))\n",
    "for i in range(1,11):\n",
    "    print(\"{}*{} = {}\".format(Number,i,Number*i))"
   ]
  },
  {
   "cell_type": "raw",
   "id": "566c874b",
   "metadata": {},
   "source": [
    "3.Write a Python Program to Print the Fibonacci sequence?"
   ]
  },
  {
   "cell_type": "code",
   "execution_count": 71,
   "id": "0b450ee6",
   "metadata": {},
   "outputs": [
    {
     "name": "stdout",
     "output_type": "stream",
     "text": [
      "55\n"
     ]
    }
   ],
   "source": [
    "def Fibonacci(n):\n",
    "    if n < 0:\n",
    "        print(\"Incorrect input\")\n",
    "\n",
    "    elif n == 0:\n",
    "        return 0\n",
    "\n",
    "    elif n == 1 or n == 2:\n",
    "        return 1\n",
    " \n",
    "    else:\n",
    "        return Fibonacci(n-1) + Fibonacci(n-2)\n",
    "print(Fibonacci(10))"
   ]
  },
  {
   "cell_type": "raw",
   "id": "af9cd0f7",
   "metadata": {},
   "source": [
    "4.Write a Python Program to Check Armstrong Number?"
   ]
  },
  {
   "cell_type": "code",
   "execution_count": 63,
   "id": "581c7fb2",
   "metadata": {},
   "outputs": [
    {
     "name": "stdout",
     "output_type": "stream",
     "text": [
      "Please enter a Number: 407\n",
      "Armstrong\n"
     ]
    }
   ],
   "source": [
    "Number = int(input(\"Please enter a Number: \"))\n",
    "Main = Number\n",
    "Main1 = Number\n",
    "digit=0\n",
    "while(Main>=1):\n",
    "    digit=digit+1\n",
    "    Main=Main/10\n",
    "l=0\n",
    "while(Number>=1):\n",
    "    Number1 = Number % 10\n",
    "    l = l+ Number1**digit\n",
    "    Number = int(Number/10)\n",
    "\n",
    "if l==Main1:\n",
    "    print(\"Armstrong\")\n",
    "else:\n",
    "    print(\"Not an Armstrong\")"
   ]
  },
  {
   "cell_type": "raw",
   "id": "6cdd2eb9",
   "metadata": {},
   "source": [
    "5.Write a Python Program to Find Armstrong Number in an Interval?"
   ]
  },
  {
   "cell_type": "code",
   "execution_count": 69,
   "id": "0dfe9fb1",
   "metadata": {},
   "outputs": [
    {
     "name": "stdout",
     "output_type": "stream",
     "text": [
      "Enter the Interval for which you want to find Number of Armstong Number: 1000\n",
      "1\n",
      "2\n",
      "3\n",
      "4\n",
      "5\n",
      "6\n",
      "7\n",
      "8\n",
      "9\n",
      "153\n",
      "370\n",
      "371\n",
      "407\n",
      "The Number of Armstong Number are within 1000 is 13\n"
     ]
    }
   ],
   "source": [
    "Number = int(input(\"Enter the Interval for which you want to find Number of Armstong Number: \"))\n",
    "counter = 0\n",
    "for i in range(1,Number+1):\n",
    "    digit=0\n",
    "    num = i\n",
    "    num2= i\n",
    "    while(num>=1):\n",
    "        digit=digit+1\n",
    "        num=num/10\n",
    "    l=0\n",
    "    while(num2>=1):\n",
    "        Number1 = num2 % 10\n",
    "        l = l+ Number1**digit\n",
    "        num2 = int(num2/10)\n",
    "    if l==i:\n",
    "        counter = counter+1\n",
    "        print(l)\n",
    "    else:\n",
    "        continue\n",
    "print(\"The Number of Armstong Number are within {} is {}\".format(Number,counter))"
   ]
  },
  {
   "cell_type": "raw",
   "id": "7694484a",
   "metadata": {},
   "source": [
    "6.Write a Python Program to Find the Sum of Natural Numbers?"
   ]
  },
  {
   "cell_type": "code",
   "execution_count": 60,
   "id": "622a040c",
   "metadata": {},
   "outputs": [
    {
     "name": "stdout",
     "output_type": "stream",
     "text": [
      "Enter the Number for which we need to find the sum: 34\n",
      "595\n"
     ]
    }
   ],
   "source": [
    "Number = int(input(\"Enter the Number for which we need to find the sum: \"))\n",
    "sum=0\n",
    "for i in range(1,Number+1):\n",
    "    sum=sum+i\n",
    "print(sum)"
   ]
  },
  {
   "cell_type": "code",
   "execution_count": null,
   "id": "5c1816fb",
   "metadata": {},
   "outputs": [],
   "source": []
  }
 ],
 "metadata": {
  "kernelspec": {
   "display_name": "Python 3 (ipykernel)",
   "language": "python",
   "name": "python3"
  },
  "language_info": {
   "codemirror_mode": {
    "name": "ipython",
    "version": 3
   },
   "file_extension": ".py",
   "mimetype": "text/x-python",
   "name": "python",
   "nbconvert_exporter": "python",
   "pygments_lexer": "ipython3",
   "version": "3.9.7"
  }
 },
 "nbformat": 4,
 "nbformat_minor": 5
}
