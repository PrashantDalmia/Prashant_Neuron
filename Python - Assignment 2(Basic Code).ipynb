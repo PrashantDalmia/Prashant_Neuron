{
 "cells": [
  {
   "cell_type": "raw",
   "id": "b334a0fe",
   "metadata": {},
   "source": [
    "1.Write a Python program to convert kilometers to miles?"
   ]
  },
  {
   "cell_type": "code",
   "execution_count": 2,
   "id": "fcd14215",
   "metadata": {},
   "outputs": [
    {
     "name": "stdout",
     "output_type": "stream",
     "text": [
      "Enter the Value of the Kilometers2\n",
      "The Miles is 1.24274238 for 2 Kilometers\n"
     ]
    }
   ],
   "source": [
    "Kilometer = int(input(\"Enter the Value of the Kilometers\"))\n",
    "Miles = Kilometer * 0.62137119\n",
    "print(\"The Miles is {} for {} Kilometers\".format(Miles,Kilometer))"
   ]
  },
  {
   "cell_type": "raw",
   "id": "3254bf70",
   "metadata": {},
   "source": [
    "2.Write a Python program to convert Celsius to Fahrenheit?"
   ]
  },
  {
   "cell_type": "code",
   "execution_count": 4,
   "id": "f9c12751",
   "metadata": {},
   "outputs": [
    {
     "name": "stdout",
     "output_type": "stream",
     "text": [
      "Enter the Value of the Celsius2\n",
      "The Fahrenheit is 67.6 for 2 Celsius\n"
     ]
    }
   ],
   "source": [
    "Celsius = int(input(\"Enter the Value of the Celsius\"))\n",
    "Fahrenheit = Celsius * 33.8\n",
    "print(\"The Fahrenheit is {} for {} Celsius\".format(Fahrenheit,Celsius))"
   ]
  },
  {
   "cell_type": "raw",
   "id": "82e66a00",
   "metadata": {},
   "source": [
    "3.Write a Python program to display calendar?"
   ]
  },
  {
   "cell_type": "code",
   "execution_count": 6,
   "id": "697cad73",
   "metadata": {},
   "outputs": [
    {
     "name": "stdout",
     "output_type": "stream",
     "text": [
      "   December 2021\n",
      "Mo Tu We Th Fr Sa Su\n",
      "       1  2  3  4  5\n",
      " 6  7  8  9 10 11 12\n",
      "13 14 15 16 17 18 19\n",
      "20 21 22 23 24 25 26\n",
      "27 28 29 30 31\n",
      "\n"
     ]
    }
   ],
   "source": [
    "import calendar\n",
    "\n",
    "yy = 2021\n",
    "mm = 12\n",
    "\n",
    "print(calendar.month(yy, mm))"
   ]
  },
  {
   "cell_type": "raw",
   "id": "d2f17f1a",
   "metadata": {},
   "source": [
    "4.Write a Python program to solve quadratic equation?"
   ]
  },
  {
   "cell_type": "code",
   "execution_count": 10,
   "id": "922a3351",
   "metadata": {},
   "outputs": [
    {
     "name": "stdout",
     "output_type": "stream",
     "text": [
      "Enter the value of a: 2\n",
      "Enter the value of b: 3\n",
      "Enter the value of c: 4\n",
      "Two distinct complex roots are -0.75+1.20 and -0.75-1.20\n"
     ]
    }
   ],
   "source": [
    "import math\n",
    "\n",
    "a = int(input('Enter the value of a: '))\n",
    "b = int(input('Enter the value of b: '))\n",
    "c = int(input('Enter the value of c: '))\n",
    "\n",
    "# calculate discriminant\n",
    "dis = (b**2) - (4*a*c)\n",
    "\n",
    "# checking condition for discriminant\n",
    "if(dis > 0):\n",
    "    root1 = (-b + math.sqrt(dis) / (2 * a))\n",
    "    root2 = (-b - math.sqrt(dis) / (2 * a))\n",
    "    print(\"Two distinct real roots are %.2f and %.2f\" %(root1, root2))\n",
    "\n",
    "elif(dis == 0):\n",
    "    root1 = root2 = -b / (2 * a)\n",
    "    print(\"Two equal and real roots are %.2f and %.2f\" %(root1, root2))\n",
    "\n",
    "elif(dis < 0):\n",
    "    root1 = root2 = -b / (2 * a)\n",
    "    imaginary = math.sqrt(-dis) / (2 * a)\n",
    "    print(\"Two distinct complex roots are %.2f+%.2f and %.2f-%.2f\" \n",
    "                          %(root1, imaginary, root2, imaginary))"
   ]
  },
  {
   "cell_type": "raw",
   "id": "a9733b18",
   "metadata": {},
   "source": [
    "5.Write a Python program to swap two variables without temp variable?"
   ]
  },
  {
   "cell_type": "code",
   "execution_count": 9,
   "id": "d531fffd",
   "metadata": {},
   "outputs": [
    {
     "name": "stdout",
     "output_type": "stream",
     "text": [
      "Enter the 1st Variable: 2\n",
      "Enter the 2nd Variable: -5\n",
      "Now 1st Varaible is -5 and 2nd Variable is 2\n"
     ]
    }
   ],
   "source": [
    "Var1 = int(input(\"Enter the 1st Variable: \"))\n",
    "Var2 = int(input(\"Enter the 2nd Variable: \"))\n",
    "Var1 = Var1 +Var2\n",
    "Var2 = Var1 -Var2\n",
    "Var1 = Var1 -Var2\n",
    "\n",
    "print(\"Now 1st Varaible is {} and 2nd Variable is {}\".format(Var1,Var2))"
   ]
  },
  {
   "cell_type": "code",
   "execution_count": null,
   "id": "364bf715",
   "metadata": {},
   "outputs": [],
   "source": []
  }
 ],
 "metadata": {
  "kernelspec": {
   "display_name": "Python 3 (ipykernel)",
   "language": "python",
   "name": "python3"
  },
  "language_info": {
   "codemirror_mode": {
    "name": "ipython",
    "version": 3
   },
   "file_extension": ".py",
   "mimetype": "text/x-python",
   "name": "python",
   "nbconvert_exporter": "python",
   "pygments_lexer": "ipython3",
   "version": "3.9.7"
  }
 },
 "nbformat": 4,
 "nbformat_minor": 5
}
