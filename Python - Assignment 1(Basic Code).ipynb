{
 "cells": [
  {
   "cell_type": "raw",
   "id": "555e0a33",
   "metadata": {},
   "source": [
    "1.Write a Python program to print \"Hello Python\"?"
   ]
  },
  {
   "cell_type": "code",
   "execution_count": 1,
   "id": "ca6e5a53",
   "metadata": {},
   "outputs": [
    {
     "name": "stdout",
     "output_type": "stream",
     "text": [
      "Hello Python\n"
     ]
    }
   ],
   "source": [
    "print(\"Hello Python\")"
   ]
  },
  {
   "cell_type": "raw",
   "id": "d9504523",
   "metadata": {},
   "source": [
    "2.Write a Python program to do arithmetical operations addition and division.?"
   ]
  },
  {
   "cell_type": "code",
   "execution_count": 3,
   "id": "54b3ab3b",
   "metadata": {},
   "outputs": [
    {
     "name": "stdout",
     "output_type": "stream",
     "text": [
      "5\n",
      "1.5\n"
     ]
    }
   ],
   "source": [
    "print(2+3)\n",
    "print(6/4)"
   ]
  },
  {
   "cell_type": "raw",
   "id": "2404af90",
   "metadata": {},
   "source": [
    "3.Write a Python program to find the area of a triangle?"
   ]
  },
  {
   "cell_type": "code",
   "execution_count": 6,
   "id": "4c45d3b0",
   "metadata": {},
   "outputs": [
    {
     "name": "stdout",
     "output_type": "stream",
     "text": [
      "Enter the Height: 4\n",
      "Enter the base: 3\n",
      "Area is 6.0\n"
     ]
    }
   ],
   "source": [
    "height = int(input(\"Enter the Height: \"))\n",
    "base = int(input(\"Enter the base: \"))\n",
    "Area = (1/2)*base*height\n",
    "print(\"Area is\",Area)"
   ]
  },
  {
   "cell_type": "raw",
   "id": "c5d69dcf",
   "metadata": {},
   "source": [
    "4.Write a Python program to swap two variables?"
   ]
  },
  {
   "cell_type": "code",
   "execution_count": 9,
   "id": "9afd83d7",
   "metadata": {},
   "outputs": [
    {
     "name": "stdout",
     "output_type": "stream",
     "text": [
      "Enter the 1st Variable: 4\n",
      "Enter the 2nd Variable: 5\n",
      "Now 1st Varaible is 5 and 2nd Variable is 4\n"
     ]
    }
   ],
   "source": [
    "Var1 = int(input(\"Enter the 1st Variable: \"))\n",
    "Var2 = int(input(\"Enter the 2nd Variable: \"))\n",
    "temp = Var1\n",
    "Var1 = Var2\n",
    "Var2 =temp\n",
    "\n",
    "print(\"Now 1st Varaible is {} and 2nd Variable is {}\".format(Var1,Var2))"
   ]
  },
  {
   "cell_type": "raw",
   "id": "32a181dc",
   "metadata": {},
   "source": [
    "5.Write a Python program to generate a random number?"
   ]
  },
  {
   "cell_type": "code",
   "execution_count": 14,
   "id": "681efaef",
   "metadata": {},
   "outputs": [
    {
     "name": "stdout",
     "output_type": "stream",
     "text": [
      "1239\n"
     ]
    }
   ],
   "source": [
    "import random\n",
    "print (random.randint(1,1489))"
   ]
  },
  {
   "cell_type": "code",
   "execution_count": null,
   "id": "1d9e189a",
   "metadata": {},
   "outputs": [],
   "source": []
  }
 ],
 "metadata": {
  "kernelspec": {
   "display_name": "Python 3 (ipykernel)",
   "language": "python",
   "name": "python3"
  },
  "language_info": {
   "codemirror_mode": {
    "name": "ipython",
    "version": 3
   },
   "file_extension": ".py",
   "mimetype": "text/x-python",
   "name": "python",
   "nbconvert_exporter": "python",
   "pygments_lexer": "ipython3",
   "version": "3.9.7"
  }
 },
 "nbformat": 4,
 "nbformat_minor": 5
}
