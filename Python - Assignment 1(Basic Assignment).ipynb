{
 "cells": [
  {
   "cell_type": "raw",
   "id": "a86f1c02",
   "metadata": {},
   "source": [
    "1. In the below elements which of them are values or an expression? eg:- values can be integer or string and expressions will be mathematical operators.\n",
    "\n",
    "Answer:\n",
    "*       - Expresion\n",
    "'hello' - Value\n",
    "-87.8   - Value\n",
    "-       - Expresion\n",
    "/       - Expresion\n",
    "+       - Expresion\n",
    "6       - Value\n"
   ]
  },
  {
   "cell_type": "raw",
   "id": "ea9ab5a1",
   "metadata": {},
   "source": [
    "2. What is the difference between string and variable?\n",
    "\n",
    "Answer:\n",
    "\n",
    "String  - It is a data type. Like we can have a variable with string data type\n",
    "Variable - It is something to with we assign asn kind of data type. Like a= 34. Here, a is the variable"
   ]
  },
  {
   "cell_type": "raw",
   "id": "1ec6aec5",
   "metadata": {},
   "source": [
    "3. Describe three different data types\n",
    "\n",
    "Answer:\n",
    "\n",
    "Integer: Numeric Values -1,2,3\n",
    "String: Collection of Characters = 'Prashant','Krish',\"Shud'\n",
    "Boolean: True,False"
   ]
  },
  {
   "cell_type": "raw",
   "id": "25de6179",
   "metadata": {},
   "source": [
    "4. What is an expression made up of? What do all expressions do?\n",
    "\n",
    "Answer:\n",
    "Expression are made of operators like +,-,/\n",
    "The Expression does the operation and gives the result"
   ]
  },
  {
   "cell_type": "raw",
   "id": "6ac045fd",
   "metadata": {},
   "source": [
    "5. This assignment statements, like spam = 10. What is the difference between an expression and a statement?\n",
    "\n",
    "Answer:\n",
    "I think it is not an expression. It is a Statemnet as it is assiging the value to spam"
   ]
  },
  {
   "cell_type": "raw",
   "id": "48fb3727",
   "metadata": {},
   "source": [
    "6. After running the following code, what does the variable bacon contain?\n",
    "bacon = 22\n",
    "bacon + 1\n",
    "\n",
    "Answer \n",
    "22"
   ]
  },
  {
   "cell_type": "raw",
   "id": "1eba2ba9",
   "metadata": {},
   "source": [
    "7. What should the values of the following two terms be?\n",
    "'spam' + 'spamspam'\n",
    "'spam' * 3\n",
    "\n",
    "Answer:\n",
    "'spam' + 'spamspam' - 'spamspamspam' \n",
    "'spam' * 3 - 'spamspamspam'"
   ]
  },
  {
   "cell_type": "raw",
   "id": "e985db13",
   "metadata": {},
   "source": [
    "8. Why is eggs a valid variable name while 100 is invalid?\n",
    "\n",
    "Answer:\n",
    "We can not create a varaible name which is a integer"
   ]
  },
  {
   "cell_type": "raw",
   "id": "c599b2f0",
   "metadata": {},
   "source": [
    "9. What three functions can be used to get the integer, floating-point number, or string version of a value?\n",
    "\n",
    "Answer:\n",
    "integer - int()\n",
    "floating-point - float()\n",
    "string - str()"
   ]
  },
  {
   "cell_type": "raw",
   "id": "8a94cec3",
   "metadata": {},
   "source": [
    "10. Why does this expression cause an error? How can you fix it?\n",
    "'I have eaten ' + 99 + ' burritos.'\n",
    "\n",
    "Answer:\n",
    "It is giving error because we are trying to add different datatype. Here, str with int.\n",
    "In order to fix it, we have to write it like this\n",
    "'I have eaten ' + str(99) + ' burritos.'"
   ]
  },
  {
   "cell_type": "code",
   "execution_count": 1,
   "id": "e2d25e38",
   "metadata": {},
   "outputs": [
    {
     "data": {
      "text/plain": [
       "'I have eaten 99 burritos.'"
      ]
     },
     "execution_count": 1,
     "metadata": {},
     "output_type": "execute_result"
    }
   ],
   "source": [
    "'I have eaten ' + str(99) + ' burritos.'"
   ]
  },
  {
   "cell_type": "raw",
   "id": "f39dc298",
   "metadata": {},
   "source": [
    "------------------------------------END----------------------------------"
   ]
  },
  {
   "cell_type": "code",
   "execution_count": null,
   "id": "559dd7d6",
   "metadata": {},
   "outputs": [],
   "source": []
  }
 ],
 "metadata": {
  "kernelspec": {
   "display_name": "Python 3 (ipykernel)",
   "language": "python",
   "name": "python3"
  },
  "language_info": {
   "codemirror_mode": {
    "name": "ipython",
    "version": 3
   },
   "file_extension": ".py",
   "mimetype": "text/x-python",
   "name": "python",
   "nbconvert_exporter": "python",
   "pygments_lexer": "ipython3",
   "version": "3.9.7"
  }
 },
 "nbformat": 4,
 "nbformat_minor": 5
}
