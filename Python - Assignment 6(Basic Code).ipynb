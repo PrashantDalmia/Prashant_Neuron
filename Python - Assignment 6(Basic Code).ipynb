{
 "cells": [
  {
   "cell_type": "raw",
   "id": "cb5acac4",
   "metadata": {},
   "source": [
    "1.Write a Python Program to Display Fibonacci Sequence Using Recursion?"
   ]
  },
  {
   "cell_type": "code",
   "execution_count": 34,
   "id": "65aa895b",
   "metadata": {},
   "outputs": [],
   "source": [
    "def fibo(n):\n",
    "    if n ==0:\n",
    "        return 0\n",
    "    elif n==1 or n==2:\n",
    "        return 1\n",
    "    else:\n",
    "        return fibo(n-1) + fibo(n-2)"
   ]
  },
  {
   "cell_type": "code",
   "execution_count": 35,
   "id": "a055fe5b",
   "metadata": {},
   "outputs": [
    {
     "name": "stdout",
     "output_type": "stream",
     "text": [
      "34\n"
     ]
    }
   ],
   "source": [
    "print(fibo(9))"
   ]
  },
  {
   "cell_type": "raw",
   "id": "e4c369e8",
   "metadata": {},
   "source": [
    "2.Write a Python Program to Find Factorial of Number Using Recursion?"
   ]
  },
  {
   "cell_type": "code",
   "execution_count": 28,
   "id": "ccfa6228",
   "metadata": {},
   "outputs": [
    {
     "name": "stdout",
     "output_type": "stream",
     "text": [
      "Enter for how many Natural number you want to Factorial: 4\n"
     ]
    },
    {
     "data": {
      "text/plain": [
       "24"
      ]
     },
     "execution_count": 28,
     "metadata": {},
     "output_type": "execute_result"
    }
   ],
   "source": [
    "Number = int(input(\"Enter for how many Natural number you want to Factorial: \"))\n",
    "def fac(n):\n",
    "    if n==1:\n",
    "        return 1\n",
    "    else:\n",
    "        return fac(n-1)*n\n",
    "fac(Number)"
   ]
  },
  {
   "cell_type": "raw",
   "id": "39586163",
   "metadata": {},
   "source": [
    "3.Write a Python Program to calculate your Body Mass Index?"
   ]
  },
  {
   "cell_type": "code",
   "execution_count": 18,
   "id": "0c6ade36",
   "metadata": {},
   "outputs": [
    {
     "name": "stdout",
     "output_type": "stream",
     "text": [
      "Enter the Height in Centimeters: 177\n",
      "Enter the Weight in Kg: 83\n",
      "Your BMI is:  26.493025631204315\n"
     ]
    }
   ],
   "source": [
    "Height = int(input(\"Enter the Height in Centimeters: \"))\n",
    "Weight = int(input(\"Enter the Weight in Kg: \"))\n",
    "\n",
    "BMI = Weight/(((Height)/100)**2)\n",
    "\n",
    "print(\"Your BMI is: \",BMI)"
   ]
  },
  {
   "cell_type": "raw",
   "id": "50e21969",
   "metadata": {},
   "source": [
    "4.Write a Python Program to calculate the natural logarithm of any number?"
   ]
  },
  {
   "cell_type": "code",
   "execution_count": 21,
   "id": "08ab38bb",
   "metadata": {},
   "outputs": [
    {
     "name": "stdout",
     "output_type": "stream",
     "text": [
      "Enter the number for whivh you want to find the Ln: 4\n",
      "The ln(4) of the number is 1.3862943611198906\n"
     ]
    }
   ],
   "source": [
    "import math\n",
    "Number = int(input(\"Enter the number for whivh you want to find the Ln: \"))\n",
    "print(\"The ln({}) of the number is {}\".format(Number,math.log(Number)))"
   ]
  },
  {
   "cell_type": "raw",
   "id": "4203d3f9",
   "metadata": {},
   "source": [
    "5.Write a Python Program for cube sum of first n natural numbers?"
   ]
  },
  {
   "cell_type": "code",
   "execution_count": 26,
   "id": "f25246d6",
   "metadata": {},
   "outputs": [
    {
     "name": "stdout",
     "output_type": "stream",
     "text": [
      "Enter for how many Natural number you want to find the cube sum: 4\n",
      "The Cube Sum is:  100\n"
     ]
    }
   ],
   "source": [
    "Number = int(input(\"Enter for how many Natural number you want to find the cube sum: \"))\n",
    "k=0\n",
    "for i in range(1,Number+1):\n",
    "    k=k+(i*i*i)\n",
    "print(\"The Cube Sum is: \",k)"
   ]
  },
  {
   "cell_type": "code",
   "execution_count": null,
   "id": "71a4042c",
   "metadata": {},
   "outputs": [],
   "source": []
  }
 ],
 "metadata": {
  "kernelspec": {
   "display_name": "Python 3 (ipykernel)",
   "language": "python",
   "name": "python3"
  },
  "language_info": {
   "codemirror_mode": {
    "name": "ipython",
    "version": 3
   },
   "file_extension": ".py",
   "mimetype": "text/x-python",
   "name": "python",
   "nbconvert_exporter": "python",
   "pygments_lexer": "ipython3",
   "version": "3.9.7"
  }
 },
 "nbformat": 4,
 "nbformat_minor": 5
}
